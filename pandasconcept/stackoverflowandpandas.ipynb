#!/usr/bin/env python
# coding: utf-8

# In[1]:


import pandas as pd


# In[2]:


df = pd.read_csv('learn-python/pandasconcept/data/survey_results_public.csv')


# In[3]:


schema_df = pd.read_csv('learn-python/pandasconcept/data/survey_results_schema.csv')


# In[4]:


df


# In[5]:


schema_df


# In[6]:


df.shape


# In[7]:


schema_df.shape


# In[8]:


df['Hobbyist']


# In[9]:


df.columns


# In[10]:


df.rows


# In[13]:


df['Hobbyist'].value_counts()


# In[14]:


df.loc[0]


# In[15]:


df.loc[0,'Hobbyist']


# In[18]:


df.loc[0:2,'Hobbyist']


# In[19]:


df.loc[0:2,'Hobbyist':'Employment']


# In[ ]:




